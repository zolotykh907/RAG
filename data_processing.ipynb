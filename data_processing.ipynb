{
 "cells": [
  {
   "cell_type": "code",
   "execution_count": 1,
   "id": "5a3de3c2",
   "metadata": {},
   "outputs": [
    {
     "name": "stderr",
     "output_type": "stream",
     "text": [
      "/opt/anaconda3/envs/safevision/lib/python3.10/site-packages/tqdm/auto.py:21: TqdmWarning: IProgress not found. Please update jupyter and ipywidgets. See https://ipywidgets.readthedocs.io/en/stable/user_install.html\n",
      "  from .autonotebook import tqdm as notebook_tqdm\n"
     ]
    }
   ],
   "source": [
    "import pandas as pd\n",
    "import json\n",
    "import numpy as np\n",
    "import hashlib\n",
    "import re\n",
    "from sentence_transformers import SentenceTransformer\n",
    "import faiss\n"
   ]
  },
  {
   "cell_type": "code",
   "execution_count": 2,
   "id": "6bed069e",
   "metadata": {},
   "outputs": [],
   "source": [
    "with open('./RuBQ_2.0_paragraphs.json', 'r') as f:\n",
    "    data = json.load(f)"
   ]
  },
  {
   "cell_type": "code",
   "execution_count": 3,
   "id": "25bef0ea",
   "metadata": {},
   "outputs": [
    {
     "name": "stdout",
     "output_type": "stream",
     "text": [
      "(56952, 3)\n"
     ]
    },
    {
     "data": {
      "text/html": [
       "<div>\n",
       "<style scoped>\n",
       "    .dataframe tbody tr th:only-of-type {\n",
       "        vertical-align: middle;\n",
       "    }\n",
       "\n",
       "    .dataframe tbody tr th {\n",
       "        vertical-align: top;\n",
       "    }\n",
       "\n",
       "    .dataframe thead th {\n",
       "        text-align: right;\n",
       "    }\n",
       "</style>\n",
       "<table border=\"1\" class=\"dataframe\">\n",
       "  <thead>\n",
       "    <tr style=\"text-align: right;\">\n",
       "      <th></th>\n",
       "      <th>uid</th>\n",
       "      <th>ru_wiki_pageid</th>\n",
       "      <th>text</th>\n",
       "    </tr>\n",
       "  </thead>\n",
       "  <tbody>\n",
       "    <tr>\n",
       "      <th>0</th>\n",
       "      <td>0</td>\n",
       "      <td>58311</td>\n",
       "      <td>ЦСКА — советский и российский профессиональный...</td>\n",
       "    </tr>\n",
       "    <tr>\n",
       "      <th>1</th>\n",
       "      <td>1</td>\n",
       "      <td>58311</td>\n",
       "      <td>В первом сезоне в составе Континентальной хокк...</td>\n",
       "    </tr>\n",
       "    <tr>\n",
       "      <th>2</th>\n",
       "      <td>2</td>\n",
       "      <td>58311</td>\n",
       "      <td>В межсезонье 1992 года «армейскую» команду пок...</td>\n",
       "    </tr>\n",
       "    <tr>\n",
       "      <th>3</th>\n",
       "      <td>3</td>\n",
       "      <td>58311</td>\n",
       "      <td>Однако ни Тихонов, ни Гущин, не согласились с ...</td>\n",
       "    </tr>\n",
       "    <tr>\n",
       "      <th>4</th>\n",
       "      <td>4</td>\n",
       "      <td>58311</td>\n",
       "      <td>ЦСКА Александра Волчкова сезон 1996/97 провел ...</td>\n",
       "    </tr>\n",
       "  </tbody>\n",
       "</table>\n",
       "</div>"
      ],
      "text/plain": [
       "   uid  ru_wiki_pageid                                               text\n",
       "0    0           58311  ЦСКА — советский и российский профессиональный...\n",
       "1    1           58311  В первом сезоне в составе Континентальной хокк...\n",
       "2    2           58311  В межсезонье 1992 года «армейскую» команду пок...\n",
       "3    3           58311  Однако ни Тихонов, ни Гущин, не согласились с ...\n",
       "4    4           58311  ЦСКА Александра Волчкова сезон 1996/97 провел ..."
      ]
     },
     "execution_count": 3,
     "metadata": {},
     "output_type": "execute_result"
    }
   ],
   "source": [
    "df = pd.DataFrame(data)\n",
    "print(df.shape)\n",
    "df.head()"
   ]
  },
  {
   "cell_type": "code",
   "execution_count": 4,
   "id": "fcd731a0",
   "metadata": {},
   "outputs": [
    {
     "name": "stdout",
     "output_type": "stream",
     "text": [
      "Всего текстов: 56952\n",
      "Средняя длина текста: 449 символов\n",
      "Мин. длина текста: 1 символов\n",
      "Макс. длина текста: 11010 символов\n"
     ]
    }
   ],
   "source": [
    "def data_info(df):\n",
    "    print(f\"Всего текстов: {len(df)}\")\n",
    "    print(f\"Средняя длина текста: {df['text'].str.len().mean():.0f} символов\")\n",
    "    print(f\"Мин. длина текста: {df['text'].str.len().min():.0f} символов\")\n",
    "    print(f\"Макс. длина текста: {df['text'].str.len().max():.0f} символов\")\n",
    "\n",
    "data_info(df)"
   ]
  },
  {
   "cell_type": "code",
   "execution_count": 5,
   "id": "910baf1d",
   "metadata": {},
   "outputs": [],
   "source": [
    "import logging\n",
    "logging.basicConfig(filename='data_quality.log', level=logging.INFO)\n",
    "\n",
    "logger = logging.getLogger(__name__)\n",
    "\n",
    "def compute_text_hash(text):\n",
    "    return hashlib.sha256(text.strip().lower().encode('utf-8')).hexdigest()\n",
    "\n",
    "\n",
    "def normalize_text(text):\n",
    "    text = text.lower()\n",
    "    text = re.sub(r'\\s+', ' ', text)\n",
    "    return text\n",
    "\n",
    "def check_data_quality(df, min_len=10):\n",
    "    # Удаление лишних пробелов\n",
    "    df['text'] = df['text'].str.strip()\n",
    "\n",
    "    # Проверка на пустые документы\n",
    "    empty_docs = df[(df['text'].str.strip() == '')]\n",
    "    logger.info(f'Пустых документов: {len(empty_docs)}')\n",
    "\n",
    "    # Проверка дубликатов\n",
    "    duplicate_uids = df[df.duplicated(subset=['uid'], keep=False)]\n",
    "    logger.info(f\"Дубликатов по uid: {len(duplicate_uids)}\")\n",
    "\n",
    "    df['text_hash'] = df['text'].apply(compute_text_hash)\n",
    "    duplicate_texts = df[df.duplicated(subset=['text_hash'], keep=False)]\n",
    "    logger.info(f\"Дубликатов текстов: {len(duplicate_texts)}\")\n",
    "\n",
    "    # Проверка на минимальную длину\n",
    "    short_texts = df[df['text'].str.len() < min_len]\n",
    "    logger.info(f'Текстов длиной меньше {min_len}: {len(short_texts)}')\n",
    "\n",
    "    res = {}\n",
    "    res['empty_docs'] = {'count': len(empty_docs), 'data': empty_docs.to_dict(orient='records')}\n",
    "    res['duplicate_uids'] = {'count': len(duplicate_uids), 'data': duplicate_uids.to_dict(orient='records')}\n",
    "    res['duplicate_texts'] = {'count': len(duplicate_texts), 'data': duplicate_texts.to_dict(orient='records')}\n",
    "    res['short_texts'] = {'count': len(short_texts), 'data': short_texts.to_dict(orient='records')}\n",
    "\n",
    "    # Очистка данных\n",
    "    short_texts_uids = short_texts['uid']\n",
    "    df_clean = df[~df['uid'].isin(short_texts_uids)]\n",
    "\n",
    "    df_clean = df_clean.drop_duplicates(subset=['text_hash'], keep='first')\n",
    "    df_clean = df_clean.drop('text_hash', axis=1)\n",
    "\n",
    "    # Нормализация\n",
    "    df_clean['text'] = df_clean['text'].apply(normalize_text)\n",
    "    \n",
    "    return res, df_clean\n",
    "\n",
    "\n",
    "data_quality, df_clean = check_data_quality(df)\n",
    "\n",
    "with open('data_quality_log.json', 'w') as f:\n",
    "    json.dump(data_quality, f, ensure_ascii=False)\n",
    "\n",
    "df_clean.to_json('good_texts.json', orient='records', force_ascii=False, indent=4)"
   ]
  },
  {
   "cell_type": "code",
   "execution_count": 6,
   "id": "133cdba9",
   "metadata": {},
   "outputs": [],
   "source": [
    "def create_embeddings(texts, model_name=\"sentence-transformers/paraphrase-multilingual-MiniLM-L12-v2\", batch_size=32):\n",
    "    model = SentenceTransformer(model_name)\n",
    "    embeddings = model.encode(\n",
    "        texts,\n",
    "        batch_size=batch_size,\n",
    "        show_progress_bar=True,\n",
    "        convert_to_numpy=True\n",
    "    )\n",
    "\n",
    "    return embeddings\n",
    "\n",
    "def create_faiss(embeddings, index_path=\"data/RuBQ_index.index\"):\n",
    "    dimension = embeddings.shape[1]\n",
    "    index = faiss.IndexFlatL2(dimension)\n",
    "\n",
    "    index.add(np.array(embeddings, dtype=np.float32))\n",
    "\n",
    "    faiss.write_index(index, index_path)"
   ]
  },
  {
   "cell_type": "code",
   "execution_count": null,
   "id": "9ce22853",
   "metadata": {},
   "outputs": [
    {
     "name": "stderr",
     "output_type": "stream",
     "text": [
      "Xet Storage is enabled for this repo, but the 'hf_xet' package is not installed. Falling back to regular HTTP download. For better performance, install the package with: `pip install huggingface_hub[hf_xet]` or `pip install hf_xet`\n",
      "Xet Storage is enabled for this repo, but the 'hf_xet' package is not installed. Falling back to regular HTTP download. For better performance, install the package with: `pip install huggingface_hub[hf_xet]` or `pip install hf_xet`\n",
      "Batches: 100%|██████████| 1773/1773 [01:35<00:00, 18.56it/s]\n"
     ]
    }
   ],
   "source": [
    "embeddings = create_embeddings(df_clean['text'].tolist())\n",
    "create_faiss(embeddings)\n"
   ]
  },
  {
   "cell_type": "code",
   "execution_count": null,
   "id": "f4c85609",
   "metadata": {},
   "outputs": [],
   "source": [
    "np.save(\"data/my_embeddings.npy\", embeddings)"
   ]
  },
  {
   "cell_type": "code",
   "execution_count": 2,
   "id": "dfe9012e",
   "metadata": {},
   "outputs": [
    {
     "name": "stdout",
     "output_type": "stream",
     "text": [
      "Индексы ближайших соседей: [[   42 11926    41 11925 46356]]\n",
      "Расстояния: [[0.42342547 4.188086   4.77685    4.912714   4.944633  ]]\n",
      "Первый найденный индекс: 42\n"
     ]
    }
   ],
   "source": [
    "# Проверка на корректность поиска\n",
    "index = faiss.read_index(\"data/RuBQ_index.index\")\n",
    "embeddings = np.load(\"data/my_embeddings.npy\")\n",
    "\n",
    "query = embeddings[42].reshape(1, -1)  \n",
    "\n",
    "D, I = index.search(query, k=5)\n",
    "\n",
    "print(\"Индексы ближайших соседей:\", I)\n",
    "print(\"Расстояния:\", D)\n",
    "\n",
    "print(\"Первый найденный индекс:\", I[0][0])\n"
   ]
  },
  {
   "cell_type": "code",
   "execution_count": 3,
   "id": "b4069f42",
   "metadata": {},
   "outputs": [],
   "source": [
    "with open('data/good_texts.json', 'r') as f:\n",
    "    data = json.load(f)\n",
    "\n",
    "df = pd.DataFrame(data)\n",
    "data = df['text'].tolist()"
   ]
  },
  {
   "cell_type": "code",
   "execution_count": 4,
   "id": "d3c93576",
   "metadata": {},
   "outputs": [
    {
     "name": "stdout",
     "output_type": "stream",
     "text": [
      "1. 26 декабря 1860 года между «Шеффилдом» и «Хэлламом» был сыгран первый в мировой истории футбольный матч между клубными командами.\n",
      "   (расстояние: 5.6396)\n",
      "2. Впервые за 88 лет хозяйкой мирового футбольного первенства окажется сборная, ранее никогда не участвовавшая в данном соревновании. Ранее такое случалось только в 1934 году, когда ЧМ проходил в Италии, кстати, взявшей тогда Кубок мира (таким образом, если Катар выиграет ЧМ-2022, то ещё и впервые за почти девять десятилетий футбольная сборная впервые принимающая матчи Кубка мира и одновременно вообще впервые участвующая в этом турнире, станет его победителем). Также в родных стенах дебютировала на чемпионатах мира и сборная Уругвая — однако здесь речь идет о самом первом мундиале в истории, проходившем в 1930 году.\n",
      "   (расстояние: 5.6841)\n",
      "3. В этой группе было четыре команды: Аргентина, Чили, Франция и Мексика. Один из двух первых матчей чемпионата мира — между Францией и Мексикой — начался 13 июля в 15:00 на стадионе «Поситос», над стадионом шёл небольшой снег. Судьёй этого матча был уругваец Доминго Ломбарди. На 19-й минуте Люсьен Лоран забил первый гол в истории чемпионатов мира, с лёта пробив после обостряющей передачи Эрнеста Либерати, ставшего автором первой голевой передачи в истории турнира. Примерно через десять минут вратарь Алекс Тепо вынужден был покинуть поле из-за травмы, после чего на ворота встал полузащитник Огюстен Шантрель, но французы к перерыву забили ещё дважды усилиями Марселя Ланжийе и Андре Машино. На 70-й минуте Хуан Карреньо уменьшил разрыв в счёте, который восстановился через 17 минут благодаря Машино, оформившего первый дубль в истории чемпионатов мира.\n",
      "   (расстояние: 5.7768)\n",
      "4. Множество событий в истории чемпионата мира произошли впервые именно в течение первого розыгрыша турнира. Первый гол в истории чемпионатов мира был забит 13 июля французом Люсьеном Лораном на 19-й минуте матча с Мексикой в ворота Оскара Бонфильо, ставшего, соответственно, первым вратарём, пропустившим на чемпионате мира. Во время этого же матча другой француз, Андре Машино, оформил первый дубль в истории чемпионатов мира. В тот же день американский вратарь Джимми Даглас после матча с Бельгией стал первым вратарём, не пропустившим ни одного гола в течение матча чемпионата мира.\n",
      "   (расстояние: 5.9543)\n",
      "5. История футбольного клуба ЦСКА началась в 1911 году, когда в Обществе любителей лыжного спорта (ОЛЛС) была организована футбольная секция. На базе этой футбольной секции было сформировано три команды, которые в том же году впервые приняли участие в чемпионате Москвы в классе «Б». 14 (27) августа 1911 год был сыгран первый официальный матч команды ОЛЛС с клубом «Вега». Матч закончился победой футболистов ОЛЛС со счётом 6:2. В 1917 году команда завоевала первое место в Казанской лиге (первенстве команд, располагавшихся в дачных местностях вдоль Казанской железной дороги) и вышла в класс «А» чемпионата Москвы, где выступала до 1922 года.После сезона 1917 года часть второй команды ОЛЛС перешла в первую. В 1921 году в осеннем первенстве Москвы (Кубке Фульда) чемпион определялся в «золотом матче», в котором принимали участие команды ОЛЛС и КФС. Команда КФС выиграла со счётом 6:0. В сезоне 1922 года футболисты ОЛЛС выиграли весенний чемпионат Москвы и заняли второе место в осеннем. В том же году ОЛЛС выиграло «Кубок КФС — «Коломяги»», в финале которого по регламенту встречались победители первой и второй лиг московского чемпионата, и «Кубок Тосмена», в котором встречались чемпионы Москвы и Петрограда.Сезон 1922 года был последним, в котором команда выступала под названием ОЛЛС.\n",
      "   (расстояние: 6.0534)\n"
     ]
    }
   ],
   "source": [
    "model = SentenceTransformer(\"paraphrase-multilingual-MiniLM-L12-v2\")\n",
    "\n",
    "query = \"был сыгран первый в мировой истории футбольный матч между клубными командами\"\n",
    "\n",
    "query_embedding = model.encode([query], convert_to_numpy=True).astype(\"float32\")\n",
    "\n",
    "k = 5\n",
    "distances, indices = index.search(query_embedding, k)\n",
    "\n",
    "for i, idx in enumerate(indices[0]):\n",
    "    print(f\"{i+1}. {data[idx]}\\n   (расстояние: {distances[0][i]:.4f})\")\n"
   ]
  }
 ],
 "metadata": {
  "kernelspec": {
   "display_name": "safevision",
   "language": "python",
   "name": "python3"
  },
  "language_info": {
   "codemirror_mode": {
    "name": "ipython",
    "version": 3
   },
   "file_extension": ".py",
   "mimetype": "text/x-python",
   "name": "python",
   "nbconvert_exporter": "python",
   "pygments_lexer": "ipython3",
   "version": "3.10.13"
  }
 },
 "nbformat": 4,
 "nbformat_minor": 5
}
