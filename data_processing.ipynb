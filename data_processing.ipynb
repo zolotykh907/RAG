{
 "cells": [
  {
   "cell_type": "code",
   "execution_count": 1,
   "id": "5a3de3c2",
   "metadata": {},
   "outputs": [
    {
     "name": "stderr",
     "output_type": "stream",
     "text": [
      "/opt/anaconda3/envs/safevision/lib/python3.10/site-packages/tqdm/auto.py:21: TqdmWarning: IProgress not found. Please update jupyter and ipywidgets. See https://ipywidgets.readthedocs.io/en/stable/user_install.html\n",
      "  from .autonotebook import tqdm as notebook_tqdm\n"
     ]
    }
   ],
   "source": [
    "import pandas as pd\n",
    "import json\n",
    "import numpy as np\n",
    "import hashlib\n",
    "import re\n",
    "from sentence_transformers import SentenceTransformer\n",
    "import faiss\n"
   ]
  },
  {
   "cell_type": "code",
   "execution_count": 2,
   "id": "6bed069e",
   "metadata": {},
   "outputs": [],
   "source": [
    "with open('./RuBQ_2.0_paragraphs.json', 'r') as f:\n",
    "    data = json.load(f)"
   ]
  },
  {
   "cell_type": "code",
   "execution_count": 3,
   "id": "25bef0ea",
   "metadata": {},
   "outputs": [
    {
     "name": "stdout",
     "output_type": "stream",
     "text": [
      "(56952, 3)\n"
     ]
    },
    {
     "data": {
      "text/html": [
       "<div>\n",
       "<style scoped>\n",
       "    .dataframe tbody tr th:only-of-type {\n",
       "        vertical-align: middle;\n",
       "    }\n",
       "\n",
       "    .dataframe tbody tr th {\n",
       "        vertical-align: top;\n",
       "    }\n",
       "\n",
       "    .dataframe thead th {\n",
       "        text-align: right;\n",
       "    }\n",
       "</style>\n",
       "<table border=\"1\" class=\"dataframe\">\n",
       "  <thead>\n",
       "    <tr style=\"text-align: right;\">\n",
       "      <th></th>\n",
       "      <th>uid</th>\n",
       "      <th>ru_wiki_pageid</th>\n",
       "      <th>text</th>\n",
       "    </tr>\n",
       "  </thead>\n",
       "  <tbody>\n",
       "    <tr>\n",
       "      <th>0</th>\n",
       "      <td>0</td>\n",
       "      <td>58311</td>\n",
       "      <td>ЦСКА — советский и российский профессиональный...</td>\n",
       "    </tr>\n",
       "    <tr>\n",
       "      <th>1</th>\n",
       "      <td>1</td>\n",
       "      <td>58311</td>\n",
       "      <td>В первом сезоне в составе Континентальной хокк...</td>\n",
       "    </tr>\n",
       "    <tr>\n",
       "      <th>2</th>\n",
       "      <td>2</td>\n",
       "      <td>58311</td>\n",
       "      <td>В межсезонье 1992 года «армейскую» команду пок...</td>\n",
       "    </tr>\n",
       "    <tr>\n",
       "      <th>3</th>\n",
       "      <td>3</td>\n",
       "      <td>58311</td>\n",
       "      <td>Однако ни Тихонов, ни Гущин, не согласились с ...</td>\n",
       "    </tr>\n",
       "    <tr>\n",
       "      <th>4</th>\n",
       "      <td>4</td>\n",
       "      <td>58311</td>\n",
       "      <td>ЦСКА Александра Волчкова сезон 1996/97 провел ...</td>\n",
       "    </tr>\n",
       "  </tbody>\n",
       "</table>\n",
       "</div>"
      ],
      "text/plain": [
       "   uid  ru_wiki_pageid                                               text\n",
       "0    0           58311  ЦСКА — советский и российский профессиональный...\n",
       "1    1           58311  В первом сезоне в составе Континентальной хокк...\n",
       "2    2           58311  В межсезонье 1992 года «армейскую» команду пок...\n",
       "3    3           58311  Однако ни Тихонов, ни Гущин, не согласились с ...\n",
       "4    4           58311  ЦСКА Александра Волчкова сезон 1996/97 провел ..."
      ]
     },
     "execution_count": 3,
     "metadata": {},
     "output_type": "execute_result"
    }
   ],
   "source": [
    "df = pd.DataFrame(data)\n",
    "print(df.shape)\n",
    "df.head()"
   ]
  },
  {
   "cell_type": "code",
   "execution_count": 4,
   "id": "fcd731a0",
   "metadata": {},
   "outputs": [
    {
     "name": "stdout",
     "output_type": "stream",
     "text": [
      "Всего текстов: 56952\n",
      "Средняя длина текста: 449 символов\n",
      "Мин. длина текста: 1 символов\n",
      "Макс. длина текста: 11010 символов\n"
     ]
    }
   ],
   "source": [
    "def data_info(df):\n",
    "    print(f\"Всего текстов: {len(df)}\")\n",
    "    print(f\"Средняя длина текста: {df['text'].str.len().mean():.0f} символов\")\n",
    "    print(f\"Мин. длина текста: {df['text'].str.len().min():.0f} символов\")\n",
    "    print(f\"Макс. длина текста: {df['text'].str.len().max():.0f} символов\")\n",
    "\n",
    "data_info(df)"
   ]
  },
  {
   "cell_type": "code",
   "execution_count": 5,
   "id": "910baf1d",
   "metadata": {},
   "outputs": [],
   "source": [
    "import logging\n",
    "logging.basicConfig(filename='data_quality.log', level=logging.INFO)\n",
    "\n",
    "logger = logging.getLogger(__name__)\n",
    "\n",
    "def compute_text_hash(text):\n",
    "    return hashlib.sha256(text.strip().lower().encode('utf-8')).hexdigest()\n",
    "\n",
    "\n",
    "def normalize_text(text):\n",
    "    text = text.lower()\n",
    "    text = re.sub(r'\\s+', ' ', text)\n",
    "    return text\n",
    "\n",
    "def check_data_quality(df, min_len=10):\n",
    "    # Удаление лишних пробелов\n",
    "    df['text'] = df['text'].str.strip()\n",
    "\n",
    "    # Проверка на пустые документы\n",
    "    empty_docs = df[(df['text'].str.strip() == '')]\n",
    "    logger.info(f'Пустых документов: {len(empty_docs)}')\n",
    "\n",
    "    # Проверка дубликатов\n",
    "    duplicate_uids = df[df.duplicated(subset=['uid'], keep=False)]\n",
    "    logger.info(f\"Дубликатов по uid: {len(duplicate_uids)}\")\n",
    "\n",
    "    df['text_hash'] = df['text'].apply(compute_text_hash)\n",
    "    duplicate_texts = df[df.duplicated(subset=['text_hash'], keep=False)]\n",
    "    logger.info(f\"Дубликатов текстов: {len(duplicate_texts)}\")\n",
    "\n",
    "    # Проверка на минимальную длину\n",
    "    short_texts = df[df['text'].str.len() < min_len]\n",
    "    logger.info(f'Текстов длиной меньше {min_len}: {len(short_texts)}')\n",
    "\n",
    "    res = {}\n",
    "    res['empty_docs'] = {'count': len(empty_docs), 'data': empty_docs.to_dict(orient='records')}\n",
    "    res['duplicate_uids'] = {'count': len(duplicate_uids), 'data': duplicate_uids.to_dict(orient='records')}\n",
    "    res['duplicate_texts'] = {'count': len(duplicate_texts), 'data': duplicate_texts.to_dict(orient='records')}\n",
    "    res['short_texts'] = {'count': len(short_texts), 'data': short_texts.to_dict(orient='records')}\n",
    "\n",
    "    # Очистка данных\n",
    "    short_texts_uids = short_texts['uid']\n",
    "    df_clean = df[~df['uid'].isin(short_texts_uids)]\n",
    "\n",
    "    df_clean = df_clean.drop_duplicates(subset=['text_hash'], keep='first')\n",
    "    df_clean = df_clean.drop('text_hash', axis=1)\n",
    "\n",
    "    # Нормализация\n",
    "    df_clean['text'] = df_clean['text'].apply(normalize_text)\n",
    "    \n",
    "    return res, df_clean\n",
    "\n",
    "\n",
    "data_quality, df_clean = check_data_quality(df)\n",
    "\n",
    "with open('data_quality_log.json', 'w') as f:\n",
    "    json.dump(data_quality, f, ensure_ascii=False)\n",
    "\n",
    "df_clean.to_json('good_texts.json', orient='records', force_ascii=False, indent=4)"
   ]
  },
  {
   "cell_type": "code",
   "execution_count": 6,
   "id": "133cdba9",
   "metadata": {},
   "outputs": [],
   "source": [
    "def create_embeddings(texts, model_name=\"sentence-transformers/paraphrase-multilingual-MiniLM-L12-v2\", batch_size=32):\n",
    "    model = SentenceTransformer(model_name)\n",
    "    embeddings = model.encode(\n",
    "        texts,\n",
    "        batch_size=batch_size,\n",
    "        show_progress_bar=True,\n",
    "        convert_to_numpy=True\n",
    "    )\n",
    "\n",
    "    return embeddings\n",
    "\n",
    "def create_faiss(embeddings, index_path=\"data/RuBQ_index.index\"):\n",
    "    dimension = embeddings.shape[1]\n",
    "    index = faiss.IndexFlatL2(dimension)\n",
    "\n",
    "    index.add(np.array(embeddings, dtype=np.float32))\n",
    "\n",
    "    faiss.write_index(index, index_path)"
   ]
  },
  {
   "cell_type": "code",
   "execution_count": null,
   "id": "9ce22853",
   "metadata": {},
   "outputs": [
    {
     "name": "stderr",
     "output_type": "stream",
     "text": [
      "Xet Storage is enabled for this repo, but the 'hf_xet' package is not installed. Falling back to regular HTTP download. For better performance, install the package with: `pip install huggingface_hub[hf_xet]` or `pip install hf_xet`\n",
      "Xet Storage is enabled for this repo, but the 'hf_xet' package is not installed. Falling back to regular HTTP download. For better performance, install the package with: `pip install huggingface_hub[hf_xet]` or `pip install hf_xet`\n",
      "Batches: 100%|██████████| 1773/1773 [01:35<00:00, 18.56it/s]\n"
     ]
    }
   ],
   "source": [
    "embeddings = create_embeddings(df_clean['text'].tolist())\n",
    "create_faiss(embeddings)\n"
   ]
  },
  {
   "cell_type": "code",
   "execution_count": null,
   "id": "f4c85609",
   "metadata": {},
   "outputs": [],
   "source": [
    "np.save(\"data/my_embeddings.npy\", embeddings)"
   ]
  },
  {
   "cell_type": "code",
   "execution_count": null,
   "id": "dfe9012e",
   "metadata": {},
   "outputs": [
    {
     "name": "stdout",
     "output_type": "stream",
     "text": [
      "Индексы ближайших: [[   42    41 11926    45 46356]]\n",
      "Расстояния: [[0.        3.889882  4.257508  4.5633316 4.672744 ]]\n",
      "Первый найденный индекс: 42\n"
     ]
    }
   ],
   "source": [
    "# Проверка на корректность поиска\n",
    "index = faiss.read_index(\"data/RuBQ_index.index\")\n",
    "embeddings = np.load(\"data/my_embeddings.npy\")\n",
    "\n",
    "query = embeddings[42].reshape(1, -1)  \n",
    "\n",
    "D, I = index.search(query, k=5)\n",
    "\n",
    "print(\"Индексы ближайших соседей:\", I)\n",
    "print(\"Расстояния:\", D)\n",
    "\n",
    "print(\"Первый найденный индекс:\", I[0][0])\n"
   ]
  },
  {
   "cell_type": "code",
   "execution_count": 5,
   "id": "b4069f42",
   "metadata": {},
   "outputs": [],
   "source": [
    "with open('./good_texts.json', 'r') as f:\n",
    "    data = json.load(f)\n",
    "\n",
    "df = pd.DataFrame(data)\n",
    "data = df['text'].tolist()"
   ]
  },
  {
   "cell_type": "code",
   "execution_count": null,
   "id": "d3c93576",
   "metadata": {},
   "outputs": [
    {
     "name": "stdout",
     "output_type": "stream",
     "text": [
      "=== Результаты поиска ===\n",
      "1. первое в европе жилое здание из железобетона было построено в 1904 году — это известный многоквартирный дом в 10 этажей на улице бенджамина франклина, 25, в париже, по проекту огюста перре. ничем не скрытый ж/бетонный каркас явственно читается на его фасаде, легком и ажурном, хотя все ещё не свободном от украшений. огюста перре называют во франции «отцом бетона», он был пионером и успешным практиком строительства зданий с применением этого материала.\n",
      "   (расстояние: 7.5411)\n",
      "2. как построена ркп(б). — 1923.\n",
      "   (расстояние: 7.6540)\n",
      "3. в соединённых штатах конец столетия ознаменовался строительством высотных зданий с металлическим каркасом (снаружи все ещё покрытым декоративной облицовкой из камня). благодаря каркасу здания могли уже достигать высоты 15—20 этажей — при весьма «облегчённом» плане (дом монаднок в чикаго, 1891, арх. дж. рут; здание торгового дома шлезингер & майер в чикаго, 1899—04, арх. л. салливен). приоритетная роль в проектировании и строительстве первых высотных зданий принадлежит так называемой чикагской школе, идеологом которой был луис салливен, активный поборник функционального подхода, автор знаменитого изречения «форма следует функции» (известен также и как учитель молодого ф. л. райта).\n",
      "   (расстояние: 7.7510)\n",
      "4. поворотным моментом в творческой биографии шехтеля стала постройка им в 1893 году в стиле «английской готики» особняка з. г. морозовой (с. т. морозова) на спиридоновке. в проекте особняка шехтель отошёл от распространённой в то время фронтально-фасадной композиции городских построек, поставив здание посреди участка с отступом от красной линии улицы. архитектор придал одинаковую художественную выразительность не только главному, но и всем другим фасадам здания. новаторство шехтеля выразилось не только при построении пространственной композиции особняка, но и при проектировании планировки здания: все помещения организованы вокруг своеобразного «ядра» — парадной лестницы. при проектировании особняка архитектор впервые применил характерный для его последующего творчества приём намеренного укрупнения отдельных декоративных деталей и увеличению высоты помещений, чем достигалась монументальность постройки. шехтель первым из архитекторов привлёк к оформлению интерьеров начинающего художника м. а. врубеля, который оформил малую готическую гостиную особняка тремя панно «утро», «полдень» и «вечер», выполнил скульптуру «роберт и бертрам» для парадной лестницы и сделал рисунок витража с изображением рыцаря на коне. новаторские приёмы, применённые зодчим при проектировании особняка морозовой, позволяют некоторым искусствоведам и исследователям архитектуры прямо называть эту постройку шехтеля шедевром и одним из лучших образцов городских усадеб.\n",
      "   (расстояние: 8.1053)\n",
      "5. в феврале 1836 года для строительства нового дворца на месте сгоревшего был выбран проект чарльза бэрри. он предполагал построить четырёхугольное здание в готическом стиле, главным фасадом выходящее на темзу и с башней по центру высотой 55 метров. значительный вклад в проект внёс также огастес пьюджин. краеугольный камень был заложен в 1840 году. зал заседаний палаты лордов был завершен в 1847 году, зал заседаний палаты общин — в 1852 году, основная часть работ была выполнена к 1860 году, хотя строительство продолжалось вплоть до xx века. общая стоимость строительства составила £2 млн.\n",
      "   (расстояние: 8.1059)\n"
     ]
    }
   ],
   "source": [
    "model = SentenceTransformer(\"paraphrase-multilingual-MiniLM-L12-v2\")\n",
    "\n",
    "query = \"Когда было построено здание «цветок-башня»\"\n",
    "\n",
    "query_embedding = model.encode([query], convert_to_numpy=True).astype(\"float32\")\n",
    "\n",
    "k = 5\n",
    "distances, indices = index.search(query_embedding, k)\n",
    "\n",
    "for i, idx in enumerate(indices[0]):\n",
    "    print(f\"{i+1}. {data[idx]}\\n   (расстояние: {distances[0][i]:.4f})\")\n"
   ]
  }
 ],
 "metadata": {
  "kernelspec": {
   "display_name": "safevision",
   "language": "python",
   "name": "python3"
  },
  "language_info": {
   "codemirror_mode": {
    "name": "ipython",
    "version": 3
   },
   "file_extension": ".py",
   "mimetype": "text/x-python",
   "name": "python",
   "nbconvert_exporter": "python",
   "pygments_lexer": "ipython3",
   "version": "3.10.13"
  }
 },
 "nbformat": 4,
 "nbformat_minor": 5
}
