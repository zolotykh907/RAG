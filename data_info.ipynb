{
 "cells": [
  {
   "cell_type": "code",
   "execution_count": 2,
   "id": "5a3de3c2",
   "metadata": {},
   "outputs": [],
   "source": [
    "import pandas as pd\n",
    "import json\n",
    "\n",
    "from langchain_text_splitters import RecursiveCharacterTextSplitter\n",
    "text_splitter = RecursiveCharacterTextSplitter(chunk_size=1000, \n",
    "                                                            chunk_overlap=0)\n"
   ]
  },
  {
   "cell_type": "code",
   "execution_count": null,
   "id": "6bed069e",
   "metadata": {},
   "outputs": [
    {
     "name": "stdout",
     "output_type": "stream",
     "text": [
      "(61958, 2)\n"
     ]
    },
    {
     "data": {
      "text/html": [
       "<div>\n",
       "<style scoped>\n",
       "    .dataframe tbody tr th:only-of-type {\n",
       "        vertical-align: middle;\n",
       "    }\n",
       "\n",
       "    .dataframe tbody tr th {\n",
       "        vertical-align: top;\n",
       "    }\n",
       "\n",
       "    .dataframe thead th {\n",
       "        text-align: right;\n",
       "    }\n",
       "</style>\n",
       "<table border=\"1\" class=\"dataframe\">\n",
       "  <thead>\n",
       "    <tr style=\"text-align: right;\">\n",
       "      <th></th>\n",
       "      <th>text</th>\n",
       "      <th>hash</th>\n",
       "    </tr>\n",
       "  </thead>\n",
       "  <tbody>\n",
       "    <tr>\n",
       "      <th>0</th>\n",
       "      <td>YOLOv4 была выпущена в 2020 году, в ней появил...</td>\n",
       "      <td>7e19b6170323dd34eb81715bfa40f66ee6496115058adf...</td>\n",
       "    </tr>\n",
       "    <tr>\n",
       "      <th>1</th>\n",
       "      <td>ЦСКА — советский и российский профессиональный...</td>\n",
       "      <td>2c8f09327b979fdcbd9e936cc2f1a9d9fd2b4a42723604...</td>\n",
       "    </tr>\n",
       "    <tr>\n",
       "      <th>2</th>\n",
       "      <td>В первом сезоне в составе Континентальной хокк...</td>\n",
       "      <td>7f1221d866e2455c556e4b387ab313e1c9514c2010b42f...</td>\n",
       "    </tr>\n",
       "    <tr>\n",
       "      <th>3</th>\n",
       "      <td>В межсезонье 1992 года «армейскую» команду пок...</td>\n",
       "      <td>1c3162ceb0584c9c11a0de9c253f397b725f21d521409d...</td>\n",
       "    </tr>\n",
       "    <tr>\n",
       "      <th>4</th>\n",
       "      <td>перехода воспитанников хоккейного клуба в свою...</td>\n",
       "      <td>997de0ddd9e06a5b062e82d76c51b0c51cbf2a6494e7f5...</td>\n",
       "    </tr>\n",
       "  </tbody>\n",
       "</table>\n",
       "</div>"
      ],
      "text/plain": [
       "                                                text  \\\n",
       "0  YOLOv4 была выпущена в 2020 году, в ней появил...   \n",
       "1  ЦСКА — советский и российский профессиональный...   \n",
       "2  В первом сезоне в составе Континентальной хокк...   \n",
       "3  В межсезонье 1992 года «армейскую» команду пок...   \n",
       "4  перехода воспитанников хоккейного клуба в свою...   \n",
       "\n",
       "                                                hash  \n",
       "0  7e19b6170323dd34eb81715bfa40f66ee6496115058adf...  \n",
       "1  2c8f09327b979fdcbd9e936cc2f1a9d9fd2b4a42723604...  \n",
       "2  7f1221d866e2455c556e4b387ab313e1c9514c2010b42f...  \n",
       "3  1c3162ceb0584c9c11a0de9c253f397b725f21d521409d...  \n",
       "4  997de0ddd9e06a5b062e82d76c51b0c51cbf2a6494e7f5...  "
      ]
     },
     "execution_count": 3,
     "metadata": {},
     "output_type": "execute_result"
    }
   ],
   "source": [
    "with open('data/RuBQ_2.0_paragraphs.json', 'r') as f:\n",
    "    data = json.load(f)\n",
    "\n",
    "df = pd.DataFrame(data)\n",
    "print(df.shape)\n",
    "df.head()"
   ]
  },
  {
   "cell_type": "code",
   "execution_count": null,
   "id": "793af262",
   "metadata": {},
   "outputs": [
    {
     "name": "stdout",
     "output_type": "stream",
     "text": [
      "             original_uid                                               text\n",
      "float_index                                                                 \n",
      "0.1                     0  ЦСКА — советский и российский профессиональный...\n",
      "1.1                     1  В первом сезоне в составе Континентальной хокк...\n",
      "2.1                     2  В межсезонье 1992 года «армейскую» команду пок...\n",
      "2.2                     2  перехода воспитанников хоккейного клуба в свою...\n",
      "3.1                     3  Однако ни Тихонов, ни Гущин, не согласились с ...\n",
      "...                   ...                                                ...\n",
      "56947.1             56947  Кузнец Вакула (соч. 14) ― опера Петра Чайковск...\n",
      "56948.1             56948  Трое приятелей: Джи, Харрис и Джордж, устав от...\n",
      "56949.1             56949  Корри́да (исп. Corrida) — наиболее распростран...\n",
      "56950.1             56950  События, которые легли в основу сценария, до и...\n",
      "56951.1             56951  Сражение является важнейшей частью стратегичес...\n",
      "\n",
      "[62206 rows x 2 columns]\n"
     ]
    }
   ],
   "source": [
    "def split_to_chunks(df):\n",
    "        for i, elem in enumerate(df.iloc()):\n",
    "            text = elem['text']\n",
    "            uid = elem['uid']\n",
    "\n",
    "            chunks = text_splitter.split_text(text)\n",
    "            for j, chunk in enumerate(chunks):\n",
    "                  \n",
    "                  df.loc[i+j/10] = [uid+j/10, chunk]\n",
    "\n",
    "\n",
    "split_to_chunks(df)"
   ]
  },
  {
   "cell_type": "code",
   "execution_count": 12,
   "id": "43b9a666",
   "metadata": {},
   "outputs": [
    {
     "data": {
      "text/html": [
       "<div>\n",
       "<style scoped>\n",
       "    .dataframe tbody tr th:only-of-type {\n",
       "        vertical-align: middle;\n",
       "    }\n",
       "\n",
       "    .dataframe tbody tr th {\n",
       "        vertical-align: top;\n",
       "    }\n",
       "\n",
       "    .dataframe thead th {\n",
       "        text-align: right;\n",
       "    }\n",
       "</style>\n",
       "<table border=\"1\" class=\"dataframe\">\n",
       "  <thead>\n",
       "    <tr style=\"text-align: right;\">\n",
       "      <th></th>\n",
       "      <th>uid</th>\n",
       "      <th>ru_wiki_pageid</th>\n",
       "      <th>text</th>\n",
       "    </tr>\n",
       "  </thead>\n",
       "  <tbody>\n",
       "    <tr>\n",
       "      <th>2</th>\n",
       "      <td>2</td>\n",
       "      <td>58311</td>\n",
       "      <td>В межсезонье 1992 года «армейскую» команду пок...</td>\n",
       "    </tr>\n",
       "    <tr>\n",
       "      <th>3</th>\n",
       "      <td>3</td>\n",
       "      <td>58311</td>\n",
       "      <td>Однако ни Тихонов, ни Гущин, не согласились с ...</td>\n",
       "    </tr>\n",
       "    <tr>\n",
       "      <th>4</th>\n",
       "      <td>4</td>\n",
       "      <td>58311</td>\n",
       "      <td>ЦСКА Александра Волчкова сезон 1996/97 провел ...</td>\n",
       "    </tr>\n",
       "    <tr>\n",
       "      <th>5</th>\n",
       "      <td>5</td>\n",
       "      <td>40178</td>\n",
       "      <td>В сентябре 1992 года ЦСКА стартовал в Лиге чем...</td>\n",
       "    </tr>\n",
       "    <tr>\n",
       "      <th>6</th>\n",
       "      <td>6</td>\n",
       "      <td>40178</td>\n",
       "      <td>В ноябре 2003 года вместо Валерия Газзаева у р...</td>\n",
       "    </tr>\n",
       "  </tbody>\n",
       "</table>\n",
       "</div>"
      ],
      "text/plain": [
       "   uid  ru_wiki_pageid                                               text\n",
       "2    2           58311  В межсезонье 1992 года «армейскую» команду пок...\n",
       "3    3           58311  Однако ни Тихонов, ни Гущин, не согласились с ...\n",
       "4    4           58311  ЦСКА Александра Волчкова сезон 1996/97 провел ...\n",
       "5    5           40178  В сентябре 1992 года ЦСКА стартовал в Лиге чем...\n",
       "6    6           40178  В ноябре 2003 года вместо Валерия Газзаева у р..."
      ]
     },
     "execution_count": 12,
     "metadata": {},
     "output_type": "execute_result"
    }
   ],
   "source": [
    "df.head()"
   ]
  },
  {
   "cell_type": "code",
   "execution_count": 11,
   "id": "fcd731a0",
   "metadata": {},
   "outputs": [
    {
     "name": "stdout",
     "output_type": "stream",
     "text": [
      "Всего текстов: 56950\n",
      "Средняя длина текста: 449 символов\n",
      "Мин. длина текста: 1 символов\n",
      "Макс. длина текста: 11010 символов\n"
     ]
    }
   ],
   "source": [
    "print(f\"Всего текстов: {len(df)}\")\n",
    "print(f\"Средняя длина текста: {df['text'].str.len().mean():.0f} символов\")\n",
    "print(f\"Мин. длина текста: {df['text'].str.len().min():.0f} символов\")\n",
    "print(f\"Макс. длина текста: {df['text'].str.len().max():.0f} символов\")"
   ]
  },
  {
   "cell_type": "code",
   "execution_count": 4,
   "id": "8b4b64a9",
   "metadata": {},
   "outputs": [],
   "source": [
    "with open('logs/data_quality.json', 'r') as f:\n",
    "    data_quality = json.load(f)\n",
    "\n",
    "empty_docs = data_quality[\"empty_docs\"]\n",
    "duplicate_uids = data_quality[\"duplicate_uids\"]\n",
    "duplicate_texts = data_quality[\"duplicate_texts\"]\n",
    "short_texts = data_quality[\"short_texts\"]"
   ]
  },
  {
   "cell_type": "code",
   "execution_count": 5,
   "id": "8a85fd0c",
   "metadata": {},
   "outputs": [
    {
     "name": "stdout",
     "output_type": "stream",
     "text": [
      "Пустых документов: 0\n",
      "Дубликатов по UID: 0\n",
      "Дубликатов по хэшу текстов: 179\n",
      "Коротких текстов: 93\n"
     ]
    }
   ],
   "source": [
    "print(f'Пустых документов: {empty_docs[\"count\"]}')\n",
    "print(f'Дубликатов по UID: {duplicate_uids[\"count\"]}')\n",
    "print(f'Дубликатов по хэшу текстов: {duplicate_texts[\"count\"]}')\n",
    "print(f'Коротких текстов: {short_texts[\"count\"]}')"
   ]
  },
  {
   "cell_type": "code",
   "execution_count": 6,
   "id": "4a0e9514",
   "metadata": {},
   "outputs": [
    {
     "name": "stdout",
     "output_type": "stream",
     "text": [
      "Размер даатсета после очистки:\n",
      "(56719, 3)\n"
     ]
    },
    {
     "data": {
      "text/html": [
       "<div>\n",
       "<style scoped>\n",
       "    .dataframe tbody tr th:only-of-type {\n",
       "        vertical-align: middle;\n",
       "    }\n",
       "\n",
       "    .dataframe tbody tr th {\n",
       "        vertical-align: top;\n",
       "    }\n",
       "\n",
       "    .dataframe thead th {\n",
       "        text-align: right;\n",
       "    }\n",
       "</style>\n",
       "<table border=\"1\" class=\"dataframe\">\n",
       "  <thead>\n",
       "    <tr style=\"text-align: right;\">\n",
       "      <th></th>\n",
       "      <th>uid</th>\n",
       "      <th>ru_wiki_pageid</th>\n",
       "      <th>text</th>\n",
       "    </tr>\n",
       "  </thead>\n",
       "  <tbody>\n",
       "    <tr>\n",
       "      <th>0</th>\n",
       "      <td>0</td>\n",
       "      <td>58311</td>\n",
       "      <td>ЦСКА — советский и российский профессиональный...</td>\n",
       "    </tr>\n",
       "    <tr>\n",
       "      <th>1</th>\n",
       "      <td>1</td>\n",
       "      <td>58311</td>\n",
       "      <td>В первом сезоне в составе Континентальной хокк...</td>\n",
       "    </tr>\n",
       "    <tr>\n",
       "      <th>2</th>\n",
       "      <td>2</td>\n",
       "      <td>58311</td>\n",
       "      <td>В межсезонье 1992 года «армейскую» команду пок...</td>\n",
       "    </tr>\n",
       "    <tr>\n",
       "      <th>3</th>\n",
       "      <td>3</td>\n",
       "      <td>58311</td>\n",
       "      <td>Однако ни Тихонов, ни Гущин, не согласились с ...</td>\n",
       "    </tr>\n",
       "    <tr>\n",
       "      <th>4</th>\n",
       "      <td>4</td>\n",
       "      <td>58311</td>\n",
       "      <td>ЦСКА Александра Волчкова сезон 1996/97 провел ...</td>\n",
       "    </tr>\n",
       "  </tbody>\n",
       "</table>\n",
       "</div>"
      ],
      "text/plain": [
       "   uid  ru_wiki_pageid                                               text\n",
       "0    0           58311  ЦСКА — советский и российский профессиональный...\n",
       "1    1           58311  В первом сезоне в составе Континентальной хокк...\n",
       "2    2           58311  В межсезонье 1992 года «армейскую» команду пок...\n",
       "3    3           58311  Однако ни Тихонов, ни Гущин, не согласились с ...\n",
       "4    4           58311  ЦСКА Александра Волчкова сезон 1996/97 провел ..."
      ]
     },
     "execution_count": 6,
     "metadata": {},
     "output_type": "execute_result"
    }
   ],
   "source": [
    "with open('data/processed_texts.json', 'r') as f:\n",
    "    data = json.load(f)\n",
    "\n",
    "df = pd.DataFrame(data)\n",
    "\n",
    "print('Размер даатсета после очистки:')\n",
    "print(df.shape)\n",
    "df.head()"
   ]
  }
 ],
 "metadata": {
  "kernelspec": {
   "display_name": "safevision",
   "language": "python",
   "name": "python3"
  },
  "language_info": {
   "codemirror_mode": {
    "name": "ipython",
    "version": 3
   },
   "file_extension": ".py",
   "mimetype": "text/x-python",
   "name": "python",
   "nbconvert_exporter": "python",
   "pygments_lexer": "ipython3",
   "version": "3.10.13"
  }
 },
 "nbformat": 4,
 "nbformat_minor": 5
}
