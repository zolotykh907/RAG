{
 "cells": [
  {
   "cell_type": "code",
   "execution_count": 1,
   "id": "5a3de3c2",
   "metadata": {},
   "outputs": [],
   "source": [
    "import pandas as pd\n",
    "import json"
   ]
  },
  {
   "cell_type": "code",
   "execution_count": 2,
   "id": "6bed069e",
   "metadata": {},
   "outputs": [
    {
     "name": "stdout",
     "output_type": "stream",
     "text": [
      "(56952, 3)\n"
     ]
    },
    {
     "data": {
      "text/html": [
       "<div>\n",
       "<style scoped>\n",
       "    .dataframe tbody tr th:only-of-type {\n",
       "        vertical-align: middle;\n",
       "    }\n",
       "\n",
       "    .dataframe tbody tr th {\n",
       "        vertical-align: top;\n",
       "    }\n",
       "\n",
       "    .dataframe thead th {\n",
       "        text-align: right;\n",
       "    }\n",
       "</style>\n",
       "<table border=\"1\" class=\"dataframe\">\n",
       "  <thead>\n",
       "    <tr style=\"text-align: right;\">\n",
       "      <th></th>\n",
       "      <th>uid</th>\n",
       "      <th>ru_wiki_pageid</th>\n",
       "      <th>text</th>\n",
       "    </tr>\n",
       "  </thead>\n",
       "  <tbody>\n",
       "    <tr>\n",
       "      <th>0</th>\n",
       "      <td>0</td>\n",
       "      <td>58311</td>\n",
       "      <td>ЦСКА — советский и российский профессиональный...</td>\n",
       "    </tr>\n",
       "    <tr>\n",
       "      <th>1</th>\n",
       "      <td>1</td>\n",
       "      <td>58311</td>\n",
       "      <td>В первом сезоне в составе Континентальной хокк...</td>\n",
       "    </tr>\n",
       "    <tr>\n",
       "      <th>2</th>\n",
       "      <td>2</td>\n",
       "      <td>58311</td>\n",
       "      <td>В межсезонье 1992 года «армейскую» команду пок...</td>\n",
       "    </tr>\n",
       "    <tr>\n",
       "      <th>3</th>\n",
       "      <td>3</td>\n",
       "      <td>58311</td>\n",
       "      <td>Однако ни Тихонов, ни Гущин, не согласились с ...</td>\n",
       "    </tr>\n",
       "    <tr>\n",
       "      <th>4</th>\n",
       "      <td>4</td>\n",
       "      <td>58311</td>\n",
       "      <td>ЦСКА Александра Волчкова сезон 1996/97 провел ...</td>\n",
       "    </tr>\n",
       "  </tbody>\n",
       "</table>\n",
       "</div>"
      ],
      "text/plain": [
       "   uid  ru_wiki_pageid                                               text\n",
       "0    0           58311  ЦСКА — советский и российский профессиональный...\n",
       "1    1           58311  В первом сезоне в составе Континентальной хокк...\n",
       "2    2           58311  В межсезонье 1992 года «армейскую» команду пок...\n",
       "3    3           58311  Однако ни Тихонов, ни Гущин, не согласились с ...\n",
       "4    4           58311  ЦСКА Александра Волчкова сезон 1996/97 провел ..."
      ]
     },
     "execution_count": 2,
     "metadata": {},
     "output_type": "execute_result"
    }
   ],
   "source": [
    "with open('data/RuBQ_2.0_paragraphs.json', 'r') as f:\n",
    "    data = json.load(f)\n",
    "\n",
    "df = pd.DataFrame(data)\n",
    "print(df.shape)\n",
    "df.head()"
   ]
  },
  {
   "cell_type": "code",
   "execution_count": 3,
   "id": "fcd731a0",
   "metadata": {},
   "outputs": [
    {
     "name": "stdout",
     "output_type": "stream",
     "text": [
      "Всего текстов: 56952\n",
      "Средняя длина текста: 449 символов\n",
      "Мин. длина текста: 1 символов\n",
      "Макс. длина текста: 11010 символов\n"
     ]
    }
   ],
   "source": [
    "print(f\"Всего текстов: {len(df)}\")\n",
    "print(f\"Средняя длина текста: {df['text'].str.len().mean():.0f} символов\")\n",
    "print(f\"Мин. длина текста: {df['text'].str.len().min():.0f} символов\")\n",
    "print(f\"Макс. длина текста: {df['text'].str.len().max():.0f} символов\")"
   ]
  },
  {
   "cell_type": "code",
   "execution_count": 4,
   "id": "8b4b64a9",
   "metadata": {},
   "outputs": [],
   "source": [
    "with open('logs/data_quality.json', 'r') as f:\n",
    "    data_quality = json.load(f)\n",
    "\n",
    "empty_docs = data_quality[\"empty_docs\"]\n",
    "duplicate_uids = data_quality[\"duplicate_uids\"]\n",
    "duplicate_texts = data_quality[\"duplicate_texts\"]\n",
    "short_texts = data_quality[\"short_texts\"]"
   ]
  },
  {
   "cell_type": "code",
   "execution_count": 5,
   "id": "8a85fd0c",
   "metadata": {},
   "outputs": [
    {
     "name": "stdout",
     "output_type": "stream",
     "text": [
      "Пустых документов: 0\n",
      "Дубликатов по UID: 0\n",
      "Дубликатов по хэшу текстов: 179\n",
      "Коротких текстов: 93\n"
     ]
    }
   ],
   "source": [
    "print(f'Пустых документов: {empty_docs[\"count\"]}')\n",
    "print(f'Дубликатов по UID: {duplicate_uids[\"count\"]}')\n",
    "print(f'Дубликатов по хэшу текстов: {duplicate_texts[\"count\"]}')\n",
    "print(f'Коротких текстов: {short_texts[\"count\"]}')"
   ]
  },
  {
   "cell_type": "code",
   "execution_count": 6,
   "id": "4a0e9514",
   "metadata": {},
   "outputs": [
    {
     "name": "stdout",
     "output_type": "stream",
     "text": [
      "Размер даатсета после очистки:\n",
      "(56719, 3)\n"
     ]
    },
    {
     "data": {
      "text/html": [
       "<div>\n",
       "<style scoped>\n",
       "    .dataframe tbody tr th:only-of-type {\n",
       "        vertical-align: middle;\n",
       "    }\n",
       "\n",
       "    .dataframe tbody tr th {\n",
       "        vertical-align: top;\n",
       "    }\n",
       "\n",
       "    .dataframe thead th {\n",
       "        text-align: right;\n",
       "    }\n",
       "</style>\n",
       "<table border=\"1\" class=\"dataframe\">\n",
       "  <thead>\n",
       "    <tr style=\"text-align: right;\">\n",
       "      <th></th>\n",
       "      <th>uid</th>\n",
       "      <th>ru_wiki_pageid</th>\n",
       "      <th>text</th>\n",
       "    </tr>\n",
       "  </thead>\n",
       "  <tbody>\n",
       "    <tr>\n",
       "      <th>0</th>\n",
       "      <td>0</td>\n",
       "      <td>58311</td>\n",
       "      <td>ЦСКА — советский и российский профессиональный...</td>\n",
       "    </tr>\n",
       "    <tr>\n",
       "      <th>1</th>\n",
       "      <td>1</td>\n",
       "      <td>58311</td>\n",
       "      <td>В первом сезоне в составе Континентальной хокк...</td>\n",
       "    </tr>\n",
       "    <tr>\n",
       "      <th>2</th>\n",
       "      <td>2</td>\n",
       "      <td>58311</td>\n",
       "      <td>В межсезонье 1992 года «армейскую» команду пок...</td>\n",
       "    </tr>\n",
       "    <tr>\n",
       "      <th>3</th>\n",
       "      <td>3</td>\n",
       "      <td>58311</td>\n",
       "      <td>Однако ни Тихонов, ни Гущин, не согласились с ...</td>\n",
       "    </tr>\n",
       "    <tr>\n",
       "      <th>4</th>\n",
       "      <td>4</td>\n",
       "      <td>58311</td>\n",
       "      <td>ЦСКА Александра Волчкова сезон 1996/97 провел ...</td>\n",
       "    </tr>\n",
       "  </tbody>\n",
       "</table>\n",
       "</div>"
      ],
      "text/plain": [
       "   uid  ru_wiki_pageid                                               text\n",
       "0    0           58311  ЦСКА — советский и российский профессиональный...\n",
       "1    1           58311  В первом сезоне в составе Континентальной хокк...\n",
       "2    2           58311  В межсезонье 1992 года «армейскую» команду пок...\n",
       "3    3           58311  Однако ни Тихонов, ни Гущин, не согласились с ...\n",
       "4    4           58311  ЦСКА Александра Волчкова сезон 1996/97 провел ..."
      ]
     },
     "execution_count": 6,
     "metadata": {},
     "output_type": "execute_result"
    }
   ],
   "source": [
    "with open('data/processed_texts.json', 'r') as f:\n",
    "    data = json.load(f)\n",
    "\n",
    "df = pd.DataFrame(data)\n",
    "\n",
    "print('Размер даатсета после очистки:')\n",
    "print(df.shape)\n",
    "df.head()"
   ]
  }
 ],
 "metadata": {
  "kernelspec": {
   "display_name": "safevision",
   "language": "python",
   "name": "python3"
  },
  "language_info": {
   "codemirror_mode": {
    "name": "ipython",
    "version": 3
   },
   "file_extension": ".py",
   "mimetype": "text/x-python",
   "name": "python",
   "nbconvert_exporter": "python",
   "pygments_lexer": "ipython3",
   "version": "3.10.13"
  }
 },
 "nbformat": 4,
 "nbformat_minor": 5
}
